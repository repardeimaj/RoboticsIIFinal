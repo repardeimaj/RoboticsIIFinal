{
 "cells": [
  {
   "cell_type": "code",
   "execution_count": 10,
   "id": "e7c6361b",
   "metadata": {},
   "outputs": [],
   "source": [
    "import numpy as np"
   ]
  },
  {
   "cell_type": "code",
   "execution_count": null,
   "id": "7c06d93c",
   "metadata": {},
   "outputs": [
    {
     "data": {
      "text/plain": [
       "np.float64(0.37000000000000005)"
      ]
     },
     "execution_count": 11,
     "metadata": {},
     "output_type": "execute_result"
    }
   ],
   "source": [
    "class MapBelief():\n",
    "    def __init__(self, init_map):\n",
    "        self.map = init_map\n",
    "        self.landmark_beliefs = [] # array of (mu, cov) pairs\n",
    "\n",
    "    def likelihood(self, landmark):\n",
    "        l = 0\n",
    "        n = len(self.landmark_beliefs)\n",
    "        id = 0\n",
    "        max_like = -1\n",
    "        for i, (mu, cov) in enumerate(self.landmark_beliefs):\n",
    "            tmp = np.random.multivariate_normal_pdf(landmark, mu, cov)\n",
    "            l += (1/n) * tmp\n",
    "            # pick landmark with highest likelihood\n",
    "            if tmp > max_like:\n",
    "                id = i\n",
    "                max_like = tmp\n",
    "\n",
    "        return l, id\n",
    "    \n",
    "    def get_landmark_params(self, id):\n",
    "        return self.landmark_beliefs[id]\n",
    "    \n",
    "    def set_landmark_params(self, id, params):\n",
    "        self.landmark_beliefs[id] = params\n",
    "    \n",
    "    def add_landmark(self, params):\n",
    "        self.landmark_beliefs.append(params)\n",
    "\n",
    "    def draw_map(self):\n",
    "        # how?\n",
    "        pass\n",
    "\n",
    "# Kalman Filter\n",
    "def update_belief(mu, cov, z_t):\n",
    "    # Update belief; estimate new state.\n",
    "    C_t = np.eye(2)\n",
    "    Q_t = np.array([[0.2, 0], \n",
    "                    [0, 0.2]])\n",
    "    A_t = np.eye(2)\n",
    "    R_t = np.eye(2) * 1e-1\n",
    "\n",
    "    # prediction step. NOTE: assuming landmarks do not move\n",
    "    mu_bar_next = (A_t @ mu)\n",
    "    cov_bar_next = (A_t @ (cov @ A_t.T)) + R_t\n",
    "    # kalman gain\n",
    "    K_t = cov_bar_next @ (C_t.T @ np.linalg.inv((C_t @ (cov_bar_next @ C_t.T)) + Q_t))\n",
    "    # correction step\n",
    "    mu_next = mu_bar_next + (K_t @ (z_t - (C_t @ mu_bar_next)))\n",
    "    cov_next = (np.eye(4) - (K_t @ C_t)) @ cov_bar_next\n",
    "\n",
    "    return mu_next, cov_next\n",
    "        \n",
    "def map_update(z_t, map_belief: MapBelief):\n",
    "    # update and add new observations\n",
    "    # loop over all observed landmarks\n",
    "    thresh = 0.5\n",
    "    for obv in z_t:\n",
    "        l, id = map_belief.likelihood(obv)\n",
    "        if l > thresh:\n",
    "            mu, cov = map_belief.get_landmark_params(id)\n",
    "            # kalman update\n",
    "            mu_new, cov_new = update_belief(mu, cov, obv)\n",
    "            map_belief.set_landmark_params(id, (mu_new, cov_new))\n",
    "        else:\n",
    "            # add to map_belief.landmark_beliefs\n",
    "            params = (obv, np.eye(2)*1e-1)\n",
    "            map_belief.add_landmark(params)\n",
    "\n",
    "    \n",
    "\n",
    "# map_update is called everytime a robot gets observation\n",
    "# how do we synchronize updates to global belief map\n",
    "# first call first serve?\n"
   ]
  }
 ],
 "metadata": {
  "kernelspec": {
   "display_name": "robotics",
   "language": "python",
   "name": "python3"
  },
  "language_info": {
   "codemirror_mode": {
    "name": "ipython",
    "version": 3
   },
   "file_extension": ".py",
   "mimetype": "text/x-python",
   "name": "python",
   "nbconvert_exporter": "python",
   "pygments_lexer": "ipython3",
   "version": "3.10.15"
  }
 },
 "nbformat": 4,
 "nbformat_minor": 5
}
