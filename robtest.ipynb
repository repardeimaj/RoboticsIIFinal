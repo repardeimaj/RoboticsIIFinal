{
 "cells": [
  {
   "cell_type": "code",
   "execution_count": null,
   "metadata": {},
   "outputs": [
    {
     "ename": "KeyboardInterrupt",
     "evalue": "",
     "output_type": "error",
     "traceback": [
      "\u001b[0;31m---------------------------------------------------------------------------\u001b[0m",
      "\u001b[0;31mKeyboardInterrupt\u001b[0m                         Traceback (most recent call last)",
      "Cell \u001b[0;32mIn[144], line 127\u001b[0m\n\u001b[1;32m    125\u001b[0m             pygame\u001b[38;5;241m.\u001b[39mdraw\u001b[38;5;241m.\u001b[39mrect(screen, BLACK, (\u001b[38;5;241m*\u001b[39mgrid_to_screen(x, y), GRID_SIZE, GRID_SIZE))\n\u001b[1;32m    126\u001b[0m \u001b[38;5;28;01mfor\u001b[39;00m robot \u001b[38;5;129;01min\u001b[39;00m robots:\n\u001b[0;32m--> 127\u001b[0m     \u001b[43mrobot\u001b[49m\u001b[38;5;241;43m.\u001b[39;49m\u001b[43mupdate\u001b[49m\u001b[43m(\u001b[49m\u001b[43mobstacle_grid\u001b[49m\u001b[43m)\u001b[49m\n\u001b[1;32m    128\u001b[0m     robot\u001b[38;5;241m.\u001b[39mdraw()\n\u001b[1;32m    130\u001b[0m pygame\u001b[38;5;241m.\u001b[39mdisplay\u001b[38;5;241m.\u001b[39mflip()\n",
      "Cell \u001b[0;32mIn[144], line 78\u001b[0m, in \u001b[0;36mRobot.update\u001b[0;34m(self, grid)\u001b[0m\n\u001b[1;32m     77\u001b[0m \u001b[38;5;28;01mdef\u001b[39;00m\u001b[38;5;250m \u001b[39m\u001b[38;5;21mupdate\u001b[39m(\u001b[38;5;28mself\u001b[39m, grid):\n\u001b[0;32m---> 78\u001b[0m     distances \u001b[38;5;241m=\u001b[39m \u001b[38;5;28;43mself\u001b[39;49m\u001b[38;5;241;43m.\u001b[39;49m\u001b[43mcast_rays\u001b[49m\u001b[43m(\u001b[49m\u001b[43mgrid\u001b[49m\u001b[43m)\u001b[49m\n\u001b[1;32m     79\u001b[0m     left_dist \u001b[38;5;241m=\u001b[39m distances[\u001b[38;5;241m0\u001b[39m][\u001b[38;5;241m1\u001b[39m]\n\u001b[1;32m     80\u001b[0m     right_dist \u001b[38;5;241m=\u001b[39m distances[\u001b[38;5;241m-\u001b[39m\u001b[38;5;241m1\u001b[39m][\u001b[38;5;241m1\u001b[39m]\n",
      "Cell \u001b[0;32mIn[144], line 64\u001b[0m, in \u001b[0;36mRobot.cast_rays\u001b[0;34m(self, grid)\u001b[0m\n\u001b[1;32m     62\u001b[0m \u001b[38;5;28;01mfor\u001b[39;00m i \u001b[38;5;129;01min\u001b[39;00m \u001b[38;5;28mrange\u001b[39m(\u001b[38;5;241m-\u001b[39mNUM_RAYS \u001b[38;5;241m/\u001b[39m\u001b[38;5;241m/\u001b[39m \u001b[38;5;241m2\u001b[39m, NUM_RAYS \u001b[38;5;241m/\u001b[39m\u001b[38;5;241m/\u001b[39m \u001b[38;5;241m2\u001b[39m \u001b[38;5;241m+\u001b[39m \u001b[38;5;241m1\u001b[39m):\n\u001b[1;32m     63\u001b[0m     ray_angle \u001b[38;5;241m=\u001b[39m \u001b[38;5;28mself\u001b[39m\u001b[38;5;241m.\u001b[39mangle \u001b[38;5;241m+\u001b[39m (i \u001b[38;5;241m/\u001b[39m NUM_RAYS) \u001b[38;5;241m*\u001b[39m math\u001b[38;5;241m.\u001b[39mpi \u001b[38;5;241m/\u001b[39m \u001b[38;5;241m2\u001b[39m\n\u001b[0;32m---> 64\u001b[0m     dist \u001b[38;5;241m=\u001b[39m \u001b[38;5;28;43mself\u001b[39;49m\u001b[38;5;241;43m.\u001b[39;49m\u001b[43mget_ray_distance\u001b[49m\u001b[43m(\u001b[49m\u001b[43mgrid\u001b[49m\u001b[43m,\u001b[49m\u001b[43m \u001b[49m\u001b[43mray_angle\u001b[49m\u001b[43m)\u001b[49m\n\u001b[1;32m     65\u001b[0m     distances\u001b[38;5;241m.\u001b[39mappend((ray_angle, dist))\n\u001b[1;32m     66\u001b[0m \u001b[38;5;28;01mreturn\u001b[39;00m distances\n",
      "Cell \u001b[0;32mIn[144], line 70\u001b[0m, in \u001b[0;36mRobot.get_ray_distance\u001b[0;34m(self, grid, angle)\u001b[0m\n\u001b[1;32m     68\u001b[0m \u001b[38;5;28;01mdef\u001b[39;00m\u001b[38;5;250m \u001b[39m\u001b[38;5;21mget_ray_distance\u001b[39m(\u001b[38;5;28mself\u001b[39m, grid, angle):\n\u001b[1;32m     69\u001b[0m     \u001b[38;5;28;01mfor\u001b[39;00m d \u001b[38;5;129;01min\u001b[39;00m \u001b[38;5;28mrange\u001b[39m(RAY_LENGTH):\n\u001b[0;32m---> 70\u001b[0m         check_x \u001b[38;5;241m=\u001b[39m \u001b[38;5;28;43mint\u001b[39;49m\u001b[43m(\u001b[49m\u001b[43m(\u001b[49m\u001b[38;5;28;43mself\u001b[39;49m\u001b[38;5;241;43m.\u001b[39;49m\u001b[43mx\u001b[49m\u001b[43m \u001b[49m\u001b[38;5;241;43m+\u001b[39;49m\u001b[43m \u001b[49m\u001b[43mmath\u001b[49m\u001b[38;5;241;43m.\u001b[39;49m\u001b[43mcos\u001b[49m\u001b[43m(\u001b[49m\u001b[43mangle\u001b[49m\u001b[43m)\u001b[49m\u001b[43m \u001b[49m\u001b[38;5;241;43m*\u001b[39;49m\u001b[43m \u001b[49m\u001b[43md\u001b[49m\u001b[43m)\u001b[49m\u001b[43m \u001b[49m\u001b[38;5;241;43m/\u001b[39;49m\u001b[43m \u001b[49m\u001b[43mGRID_SIZE\u001b[49m\u001b[43m)\u001b[49m\n\u001b[1;32m     71\u001b[0m         check_y \u001b[38;5;241m=\u001b[39m \u001b[38;5;28mint\u001b[39m((\u001b[38;5;28mself\u001b[39m\u001b[38;5;241m.\u001b[39my \u001b[38;5;241m+\u001b[39m math\u001b[38;5;241m.\u001b[39msin(angle) \u001b[38;5;241m*\u001b[39m d) \u001b[38;5;241m/\u001b[39m GRID_SIZE)\n\u001b[1;32m     72\u001b[0m         \u001b[38;5;28;01mif\u001b[39;00m \u001b[38;5;241m0\u001b[39m \u001b[38;5;241m<\u001b[39m\u001b[38;5;241m=\u001b[39m check_x \u001b[38;5;241m<\u001b[39m grid\u001b[38;5;241m.\u001b[39mshape[\u001b[38;5;241m1\u001b[39m] \u001b[38;5;129;01mand\u001b[39;00m \u001b[38;5;241m0\u001b[39m \u001b[38;5;241m<\u001b[39m\u001b[38;5;241m=\u001b[39m check_y \u001b[38;5;241m<\u001b[39m grid\u001b[38;5;241m.\u001b[39mshape[\u001b[38;5;241m0\u001b[39m]:\n",
      "\u001b[0;31mKeyboardInterrupt\u001b[0m: "
     ]
    },
    {
     "ename": "",
     "evalue": "",
     "output_type": "error",
     "traceback": [
      "\u001b[1;31mThe Kernel crashed while executing code in the current cell or a previous cell. \n",
      "\u001b[1;31mPlease review the code in the cell(s) to identify a possible cause of the failure. \n",
      "\u001b[1;31mClick <a href='https://aka.ms/vscodeJupyterKernelCrash'>here</a> for more info. \n",
      "\u001b[1;31mView Jupyter <a href='command:jupyter.viewOutput'>log</a> for further details."
     ]
    }
   ],
   "source": [
    "import pygame\n",
    "import numpy as np\n",
    "import math\n",
    "import noise\n",
    "import matplotlib.pyplot as plt\n",
    "\n",
    "WIDTH, HEIGHT = 800, 800\n",
    "GRID_SIZE = 16\n",
    "ROBOT_SIZE = 3\n",
    "FORWARD_SPEED = 4\n",
    "TURN_SPEED = 0.8\n",
    "NUM_RAYS = 3\n",
    "RAY_LENGTH = 60\n",
    "NUM_ROBOTS = 50\n",
    "WHITE = (255, 255, 255)\n",
    "BLACK = (0, 0, 0)\n",
    "RED = (255, 0, 0)\n",
    "\n",
    "pygame.init()\n",
    "screen = pygame.display.set_mode((WIDTH, HEIGHT))\n",
    "clock = pygame.time.Clock()\n",
    "\n",
    "\n",
    "def generate_occupancy_grid(width, height, scale=0.1, threshold=0.5):\n",
    "    grid = np.zeros((height, width), dtype=int)\n",
    "    seed = int(np.random.uniform(0,500))\n",
    "    for y in range(height):\n",
    "        for x in range(width):\n",
    "            #fill in square with perlin noise (like minecraft)\n",
    "            value = noise.pnoise2(x * scale, y * scale, octaves=4, persistence=0.5, lacunarity=2.0, repeatx=width, repeaty=height, base=seed)\n",
    "            grid[y, x] = 1 if value < threshold else 0\n",
    "\n",
    "    #fill in the boundary so robots don't run away\n",
    "    grid[0, :] = 1 \n",
    "    grid[-1, :] = 1 \n",
    "    grid[:, 0] = 1  \n",
    "    grid[:, -1] = 1  \n",
    "    return grid\n",
    "\n",
    "#map from continuous screen space to discrete grid map space\n",
    "def grid_to_screen(x, y):\n",
    "    return x * GRID_SIZE, y * GRID_SIZE\n",
    "\n",
    "class Robot:\n",
    "    #an individual robot agent\n",
    "\n",
    "    def __init__(self, x, y, angle, speed):\n",
    "        self.x = x\n",
    "        self.y = y\n",
    "        self.angle = angle\n",
    "        self.vel_x = speed\n",
    "        self.vel_y = 0\n",
    "\n",
    "    #detect if objects are in front, to the side, how far away, etc...\n",
    "    def cast_rays(self, grid):\n",
    "        distances = []\n",
    "        for i in range(-NUM_RAYS // 2, NUM_RAYS // 2 + 1):\n",
    "            ray_angle = self.angle + (i / NUM_RAYS) * math.pi / 2\n",
    "            dist = self.get_ray_distance(grid, ray_angle)\n",
    "            distances.append((ray_angle, dist))\n",
    "        return distances\n",
    "\n",
    "    #get distance for intersection of ray and obstacle\n",
    "    def get_ray_distance(self, grid, angle):\n",
    "        for d in range(RAY_LENGTH):\n",
    "            check_x = int((self.x + math.cos(angle) * d) / GRID_SIZE)\n",
    "            check_y = int((self.y + math.sin(angle) * d) / GRID_SIZE)\n",
    "            if 0 <= check_x < grid.shape[1] and 0 <= check_y < grid.shape[0]:\n",
    "                if grid[check_y, check_x] == 1:\n",
    "                    return d\n",
    "        return RAY_LENGTH\n",
    "\n",
    "    def update(self, grid):\n",
    "        distances = self.cast_rays(grid)\n",
    "        left_dist = distances[0][1]\n",
    "        right_dist = distances[-1][1]\n",
    "\n",
    "        if left_dist <25:\n",
    "            self.angle += TURN_SPEED\n",
    "        elif right_dist < 25:\n",
    "            self.angle -= TURN_SPEED\n",
    "\n",
    "        self.x += math.cos(self.angle) * FORWARD_SPEED\n",
    "        self.y += math.sin(self.angle) * FORWARD_SPEED\n",
    "\n",
    "    def draw(self):\n",
    "        front = (self.x + math.cos(self.angle) * ROBOT_SIZE, self.y + math.sin(self.angle) * ROBOT_SIZE)\n",
    "        left = (self.x + math.cos(self.angle + 2.5) * ROBOT_SIZE, self.y + math.sin(self.angle + 2.5) * ROBOT_SIZE)\n",
    "        right = (self.x + math.cos(self.angle - 2.5) * ROBOT_SIZE, self.y + math.sin(self.angle - 2.5) * ROBOT_SIZE)    \n",
    "        pygame.draw.polygon(screen, RED, [front, left, right])\n",
    "\n",
    "grid_cols, grid_rows = WIDTH // GRID_SIZE, HEIGHT // GRID_SIZE\n",
    "obstacle_grid = generate_occupancy_grid(grid_cols,grid_rows,scale=0.08,threshold=-0.07)\n",
    "\n",
    "robots = []\n",
    "\n",
    "for i in range(NUM_ROBOTS):\n",
    "\n",
    "    angle = x = np.random.uniform(-np.pi,np.pi)\n",
    "    speed = FORWARD_SPEED + np.random.uniform(-1,1)\n",
    "\n",
    "    robot = Robot(WIDTH/2,HEIGHT/2,angle,speed)\n",
    "    robots.append(robot)\n",
    "\n",
    "#main loop\n",
    "running = True\n",
    "while running:\n",
    "    screen.fill(WHITE)\n",
    "    \n",
    "    #render\n",
    "    for y in range(grid_rows):\n",
    "        for x in range(grid_cols):\n",
    "            if obstacle_grid[y, x] == 1:\n",
    "                pygame.draw.rect(screen, BLACK, (*grid_to_screen(x, y), GRID_SIZE, GRID_SIZE))\n",
    "    for robot in robots:\n",
    "        robot.update(obstacle_grid)\n",
    "        robot.draw()\n",
    "    \n",
    "    pygame.display.flip()\n",
    "    clock.tick(30)\n",
    "    \n",
    "    for event in pygame.event.get():\n",
    "        if event.type == pygame.QUIT:\n",
    "            running = False\n",
    "\n",
    "pygame.quit()\n"
   ]
  },
  {
   "cell_type": "code",
   "execution_count": 138,
   "metadata": {},
   "outputs": [
    {
     "data": {
      "text/plain": [
       "<matplotlib.image.AxesImage at 0x133b194e0>"
      ]
     },
     "execution_count": 138,
     "metadata": {},
     "output_type": "execute_result"
    },
    {
     "data": {
      "image/png": "[encoded data removed]",
      "text/plain": [
       "<Figure size 640x480 with 1 Axes>"
      ]
     },
     "metadata": {},
     "output_type": "display_data"
    }
   ],
   "source": [
    "obstacle_grid = generate_occupancy_grid(grid_cols,grid_rows,scale=0.08,threshold=-0.07)\n",
    "\n",
    "plt.imshow(obstacle_grid, cmap=\"gray_r\")\n"
   ]
  }
 ],
 "metadata": {
  "kernelspec": {
   "display_name": "robfinal",
   "language": "python",
   "name": "python3"
  },
  "language_info": {
   "codemirror_mode": {
    "name": "ipython",
    "version": 3
   },
   "file_extension": ".py",
   "mimetype": "text/x-python",
   "name": "python",
   "nbconvert_exporter": "python",
   "pygments_lexer": "ipython3",
   "version": "3.10.16"
  }
 },
 "nbformat": 4,
 "nbformat_minor": 2
}
